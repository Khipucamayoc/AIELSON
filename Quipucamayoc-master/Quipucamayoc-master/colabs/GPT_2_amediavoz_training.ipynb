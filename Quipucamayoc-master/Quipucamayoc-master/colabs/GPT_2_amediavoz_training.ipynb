{
  "cells": [
    {
      "cell_type": "markdown",
      "metadata": {},
      "source": [
        "[![Open In Colab](https://colab.research.google.com/assets/colab-badge.svg)](https://colab.research.google.com/github/Khipucamayoc/Quipucamayoc/blob/master/colabs/GPT_2_amediavoz_training.ipynb)"
      ]
    },
    {
      "cell_type": "code",
      "metadata": {
        "id": "Kj3MF5x25Gad",
        "colab_type": "code",
        "colab": {
          "base_uri": "https://localhost:8080/",
          "height": 329
        },
        "outputId": "5c2a81f3-fe8e-47dd-a061-be23ceb484c0"
      },
      "source": [
        "!nvidia-smi"
      ],
      "execution_count": null,
      "outputs": [
        {
          "output_type": "stream",
          "text": [
            "Tue Mar 17 17:25:53 2020       \n",
            "+-----------------------------------------------------------------------------+\n",
            "| NVIDIA-SMI 440.59       Driver Version: 418.67       CUDA Version: 10.1     |\n",
            "|-------------------------------+----------------------+----------------------+\n",
            "| GPU  Name        Persistence-M| Bus-Id        Disp.A | Volatile Uncorr. ECC |\n",
            "| Fan  Temp  Perf  Pwr:Usage/Cap|         Memory-Usage | GPU-Util  Compute M. |\n",
            "|===============================+======================+======================|\n",
            "|   0  Tesla P4            Off  | 00000000:00:04.0 Off |                    0 |\n",
            "| N/A   38C    P8     7W /  75W |      0MiB /  7611MiB |      0%      Default |\n",
            "+-------------------------------+----------------------+----------------------+\n",
            "                                                                               \n",
            "+-----------------------------------------------------------------------------+\n",
            "| Processes:                                                       GPU Memory |\n",
            "|  GPU       PID   Type   Process name                             Usage      |\n",
            "|=============================================================================|\n",
            "|  No running processes found                                                 |\n",
            "+-----------------------------------------------------------------------------+\n"
          ],
          "name": "stdout"
        }
      ]
    },
    {
      "cell_type": "code",
      "metadata": {
        "id": "PxGJFvhYjGqV",
        "colab_type": "code",
        "colab": {
          "base_uri": "https://localhost:8080/",
          "height": 35
        },
        "outputId": "949a43f2-11fb-4740-b0ab-cdd075070f41"
      },
      "source": [
        "!pip install regex"
      ],
      "execution_count": null,
      "outputs": [
        {
          "output_type": "stream",
          "text": [
            "Requirement already satisfied: regex in /usr/local/lib/python3.6/dist-packages (2019.12.20)\n"
          ],
          "name": "stdout"
        }
      ]
    },
    {
      "cell_type": "code",
      "metadata": {
        "id": "wVzYxhn2dCFi",
        "colab_type": "code",
        "colab": {}
      },
      "source": [
        "import codecs\n",
        "import regex\n",
        "import json"
      ],
      "execution_count": null,
      "outputs": []
    },
    {
      "cell_type": "code",
      "metadata": {
        "id": "7waAMTfXjDHT",
        "colab_type": "code",
        "colab": {}
      },
      "source": [
        "from pydrive.auth import GoogleAuth\n",
        "from pydrive.drive import GoogleDrive\n",
        "from google.colab import auth\n",
        "from oauth2client.client import GoogleCredentials\n",
        "auth.authenticate_user()\n",
        "gauth = GoogleAuth()\n",
        "gauth.credentials = GoogleCredentials.get_application_default()\n",
        "drive = GoogleDrive(gauth)"
      ],
      "execution_count": null,
      "outputs": []
    },
    {
      "cell_type": "code",
      "metadata": {
        "id": "b6AOSEyyi8nC",
        "colab_type": "code",
        "colab": {}
      },
      "source": [
        "downloaded = drive.CreateFile({'id':\"0ByELE8V-uYi2TkxlRmZERkY3eVpONHJXSzFEYnZaY3ctMmdr\"}) \n",
        "lyrics_filename = '/content/amediavoz_poems.json'\n",
        "downloaded.GetContentFile(lyrics_filename)"
      ],
      "execution_count": null,
      "outputs": []
    },
    {
      "cell_type": "code",
      "metadata": {
        "id": "TQc8iBX9XLJM",
        "colab_type": "code",
        "colab": {}
      },
      "source": [
        "# create raw string from JSON\n",
        "raw_str_clean = ''\n",
        "with open(lyrics_filename) as f:\n",
        "    data = json.load(f)\n",
        "    for item in data:\n",
        "      for poem in item['poems']:\n",
        "        for line in poem['poem']:\n",
        "          raw_str_clean += line + '\\n'"
      ],
      "execution_count": null,
      "outputs": []
    },
    {
      "cell_type": "code",
      "metadata": {
        "id": "PM5VP3RFnOGT",
        "colab_type": "code",
        "colab": {}
      },
      "source": [
        "# remove spaces or tabs from any empty lines\n",
        "newlines_with_space_pattern = regex.compile(r'(\\n[[:blank:]]+\\n)')\n",
        "raw_str_clean = newlines_with_space_pattern.sub(r'\\n\\n', raw_str_clean)"
      ],
      "execution_count": null,
      "outputs": []
    },
    {
      "cell_type": "code",
      "metadata": {
        "colab_type": "code",
        "id": "iAhfluHRHzu2",
        "colab": {}
      },
      "source": [
        "# change three or more new lines to two\n",
        "newlines_pattern = regex.compile(r'(\\n[\\n ]*\\n)')\n",
        "\n",
        "newlines_2 = newlines_pattern.sub(r'\\n\\n', raw_str_clean)\n",
        "# print(newlines_2)"
      ],
      "execution_count": null,
      "outputs": []
    },
    {
      "cell_type": "code",
      "metadata": {
        "id": "Ji4Oe64aOMaz",
        "colab_type": "code",
        "colab": {}
      },
      "source": [
        "file = codecs.open(\"text_clean.txt\", \"w\", \"utf-8\")\n",
        "file.write(newlines_2)\n",
        "file.close()"
      ],
      "execution_count": null,
      "outputs": []
    },
    {
      "cell_type": "code",
      "metadata": {
        "id": "G7C0e8OWNrm8",
        "colab_type": "code",
        "colab": {
          "base_uri": "https://localhost:8080/",
          "height": 311
        },
        "outputId": "39b10ddc-abba-48c5-e6e3-5aa1a4f3f0dc"
      },
      "source": [
        "# Snippet based on https://colab.sandbox.google.com/drive/1VLG8e7YSEwypxU-noRNhsv5dW4NfTGce\n",
        "%tensorflow_version 1.x\n",
        "!pip install -q gpt-2-simple\n",
        "import gpt_2_simple as gpt2\n",
        "from datetime import datetime\n",
        "from google.colab import files\n",
        "\n",
        "# Download the small GPT-2 model.\n",
        "# It's possible to finetune either the \"124M\" or \"355M\" model.\n",
        "# The \"774M\" and \"1558M\" models can't currently been finetuned in Colab.\n",
        "gpt2.download_gpt2(model_name=\"124M\")"
      ],
      "execution_count": null,
      "outputs": [
        {
          "output_type": "stream",
          "text": [
            "  Building wheel for gpt-2-simple (setup.py) ... \u001b[?25l\u001b[?25hdone\n",
            "WARNING:tensorflow:\n",
            "The TensorFlow contrib module will not be included in TensorFlow 2.0.\n",
            "For more information, please see:\n",
            "  * https://github.com/tensorflow/community/blob/master/rfcs/20180907-contrib-sunset.md\n",
            "  * https://github.com/tensorflow/addons\n",
            "  * https://github.com/tensorflow/io (for I/O related ops)\n",
            "If you depend on functionality not listed there, please file an issue.\n",
            "\n"
          ],
          "name": "stdout"
        },
        {
          "output_type": "stream",
          "text": [
            "Fetching checkpoint: 1.05Mit [00:00, 651Mit/s]                                                      \n",
            "Fetching encoder.json: 1.05Mit [00:00, 108Mit/s]                                                    \n",
            "Fetching hparams.json: 1.05Mit [00:00, 982Mit/s]                                                    \n",
            "Fetching model.ckpt.data-00000-of-00001: 498Mit [00:06, 78.4Mit/s]                                  \n",
            "Fetching model.ckpt.index: 1.05Mit [00:00, 444Mit/s]                                                \n",
            "Fetching model.ckpt.meta: 1.05Mit [00:00, 213Mit/s]                                                 \n",
            "Fetching vocab.bpe: 1.05Mit [00:00, 234Mit/s]                                                       \n"
          ],
          "name": "stderr"
        }
      ]
    },
    {
      "cell_type": "code",
      "metadata": {
        "id": "bAcj-bReN8gs",
        "colab_type": "code",
        "colab": {}
      },
      "source": [
        "sess = gpt2.start_tf_sess()\n",
        "gpt2.finetune(sess,\n",
        "              dataset='text_clean.txt',\n",
        "              model_name='124M',\n",
        "              steps=2000,\n",
        "              restore_from='fresh',\n",
        "              run_name='run1',\n",
        "              print_every=10,\n",
        "              sample_every=200,\n",
        "              save_every=500\n",
        "              )"
      ],
      "execution_count": null,
      "outputs": []
    },
    {
      "cell_type": "code",
      "metadata": {
        "id": "H6PZcs223iQC",
        "colab_type": "code",
        "colab": {}
      },
      "source": [
        "from google.colab import drive\n",
        "drive.mount('/content/drive')"
      ],
      "execution_count": null,
      "outputs": []
    },
    {
      "cell_type": "code",
      "metadata": {
        "id": "kvb35l84GnYu",
        "colab_type": "code",
        "colab": {}
      },
      "source": [
        "!cp -r /content/checkpoint/run1/ \"/content/drive/My Drive/Paola/AMI Grants: Paola Torres Núñez Del Prado/amediavoz/\""
      ],
      "execution_count": null,
      "outputs": []
    },
    {
      "cell_type": "code",
      "metadata": {
        "id": "CJxqGIfkGzCB",
        "colab_type": "code",
        "colab": {}
      },
      "source": [
        ""
      ],
      "execution_count": null,
      "outputs": []
    }
  ],
  "metadata": {
    "colab": {
      "name": "GPT-2_amediavoz_training.ipynb",
      "provenance": [],
      "collapsed_sections": []
    },
    "kernelspec": {
      "name": "python3",
      "display_name": "Python 3"
    },
    "accelerator": "GPU"
  },
  "nbformat": 4,
  "nbformat_minor": 0
}