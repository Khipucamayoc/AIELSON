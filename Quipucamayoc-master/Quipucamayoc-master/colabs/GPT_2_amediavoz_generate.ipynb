{
  "cells": [
    {
      "cell_type": "markdown",
      "metadata": {
        "id": "oHV9n3odyPi_",
        "colab_type": "text"
      },
      "source": [
        "# Demonstrate GPT-2 Amediavoz"
      ]
    },
    {
      "cell_type": "markdown",
      "metadata": {
        "id": "OX967Ce3Yh4d",
        "colab_type": "text"
      },
      "source": [
        "[![Open In Colab](https://colab.research.google.com/assets/colab-badge.svg)](https://colab.research.google.com/github/Khipucamayoc/Quipucamayoc/blob/master/colabs/GPT_2_amediavoz_generate.ipynb)\n",
        "\n",
        "## Load Python Requirements"
      ]
    },
    {
      "cell_type": "code",
      "metadata": {
        "id": "0HURY6ynyY9o",
        "colab_type": "code",
        "colab": {
          "base_uri": "https://localhost:8080/",
          "height": 182
        },
        "outputId": "62919dcc-3778-4641-936d-d032f89e7b28"
      },
      "source": [
        "# Snippet based on https://colab.sandbox.google.com/drive/1VLG8e7YSEwypxU-noRNhsv5dW4NfTGce\n",
        "%tensorflow_version 1.x\n",
        "!pip install -q gpt-2-simple\n",
        "import gpt_2_simple as gpt2\n",
        "from datetime import datetime\n",
        "from google.colab import files"
      ],
      "execution_count": null,
      "outputs": [
        {
          "output_type": "stream",
          "text": [
            "  Building wheel for gpt-2-simple (setup.py) ... \u001b[?25l\u001b[?25hdone\n",
            "WARNING:tensorflow:\n",
            "The TensorFlow contrib module will not be included in TensorFlow 2.0.\n",
            "For more information, please see:\n",
            "  * https://github.com/tensorflow/community/blob/master/rfcs/20180907-contrib-sunset.md\n",
            "  * https://github.com/tensorflow/addons\n",
            "  * https://github.com/tensorflow/io (for I/O related ops)\n",
            "If you depend on functionality not listed there, please file an issue.\n",
            "\n"
          ],
          "name": "stdout"
        }
      ]
    },
    {
      "cell_type": "markdown",
      "metadata": {
        "id": "NVrAheauCPxq",
        "colab_type": "text"
      },
      "source": [
        "**User Input Needed** When you run the next field, you will be prompted to click on a link, sign in to your Google account, and agree to permissions. Copy the resulting key and paste into the input box. Download pre-trained weights 1GB file (takes about 30 seconds to download)"
      ]
    },
    {
      "cell_type": "code",
      "metadata": {
        "colab_type": "code",
        "id": "hEzpzWYWsYKg",
        "colab": {}
      },
      "source": [
        "!pip install -U -q PyDrive\n",
        "from pydrive.auth import GoogleAuth\n",
        "from pydrive.drive import GoogleDrive\n",
        "from google.colab import auth\n",
        "from oauth2client.client import GoogleCredentials\n",
        "# Authenticate and create the PyDrive client.\n",
        "auth.authenticate_user()\n",
        "gauth = GoogleAuth()\n",
        "gauth.credentials = GoogleCredentials.get_application_default()\n",
        "drive = GoogleDrive(gauth)\n",
        "\n",
        "file_id = '1GU8ip61J5xxL7NTL0sqDOPq43XnZ2Cik'\n",
        "\n",
        "downloaded = drive.CreateFile({'id':file_id}) \n",
        "downloaded.GetContentFile('amediavoz.tar.gz')  "
      ],
      "execution_count": null,
      "outputs": []
    },
    {
      "cell_type": "code",
      "metadata": {
        "id": "pz9JLLQcItZp",
        "colab_type": "code",
        "colab": {
          "base_uri": "https://localhost:8080/",
          "height": 421
        },
        "outputId": "b3009ee9-99a3-49ca-d183-a19f3b1e3fb3"
      },
      "source": [
        "!tar -xvf amediavoz.tar.gz"
      ],
      "execution_count": null,
      "outputs": [
        {
          "output_type": "stream",
          "text": [
            "._2000epochs_gpt2sm_run1\n",
            "2000epochs_gpt2sm_run1/\n",
            "2000epochs_gpt2sm_run1/._model-2000.meta\n",
            "2000epochs_gpt2sm_run1/model-2000.meta\n",
            "2000epochs_gpt2sm_run1/._encoder.json\n",
            "2000epochs_gpt2sm_run1/encoder.json\n",
            "2000epochs_gpt2sm_run1/._checkpoint\n",
            "2000epochs_gpt2sm_run1/checkpoint\n",
            "2000epochs_gpt2sm_run1/._events.out.tfevents.1584050877.dc046d858bc5\n",
            "2000epochs_gpt2sm_run1/events.out.tfevents.1584050877.dc046d858bc5\n",
            "2000epochs_gpt2sm_run1/._model-2000.data-00000-of-00001\n",
            "2000epochs_gpt2sm_run1/model-2000.data-00000-of-00001\n",
            "2000epochs_gpt2sm_run1/._hparams.json\n",
            "2000epochs_gpt2sm_run1/hparams.json\n",
            "2000epochs_gpt2sm_run1/._counter\n",
            "2000epochs_gpt2sm_run1/counter\n",
            "2000epochs_gpt2sm_run1/._events.out.tfevents.1584048111.dc046d858bc5\n",
            "2000epochs_gpt2sm_run1/events.out.tfevents.1584048111.dc046d858bc5\n",
            "2000epochs_gpt2sm_run1/._vocab.bpe\n",
            "2000epochs_gpt2sm_run1/vocab.bpe\n",
            "2000epochs_gpt2sm_run1/._model-2000.index\n",
            "2000epochs_gpt2sm_run1/model-2000.index\n"
          ],
          "name": "stdout"
        }
      ]
    },
    {
      "cell_type": "code",
      "metadata": {
        "id": "nAQnURqSyr8U",
        "colab_type": "code",
        "colab": {
          "base_uri": "https://localhost:8080/",
          "height": 54
        },
        "outputId": "9cf2bc4d-9944-4c0e-84bb-1551e3ac24ea"
      },
      "source": [
        "sess = gpt2.start_tf_sess()\n",
        "gpt2.load_gpt2(sess, run_name='2000epochs_gpt2sm_run1', checkpoint_dir='/content')"
      ],
      "execution_count": null,
      "outputs": [
        {
          "output_type": "stream",
          "text": [
            "Loading checkpoint /content/2000epochs_gpt2sm_run1/model-2000\n",
            "INFO:tensorflow:Restoring parameters from /content/2000epochs_gpt2sm_run1/model-2000\n"
          ],
          "name": "stdout"
        }
      ]
    },
    {
      "cell_type": "code",
      "metadata": {
        "id": "buMh7yY5kwop",
        "colab_type": "code",
        "colab": {
          "base_uri": "https://localhost:8080/",
          "height": 1000
        },
        "outputId": "27b9c407-fe58-4691-dad5-55d715926784"
      },
      "source": [
        "gpt2.generate(sess, run_name='2000epochs_gpt2sm_run1', checkpoint_dir='/content', temperature=.8, prefix=\"Sobre los puros valles, eléctricos sotos,\\n\" +\n",
        "\"Tras las ciudades que un ángel diluye\\n\" +\n",
        "\"En el cielo, cargado de heces sombrías y santas,\")"
      ],
      "execution_count": null,
      "outputs": [
        {
          "output_type": "stream",
          "text": [
            "Sobre los puros valles, eléctricos sotos,\n",
            "Tras las ciudades que un ángel diluye\n",
            "En el cielo, cargado de heces sombrías y santas,\n",
            "Viene la nieve, plenitud del hollín, la sombra de lágrimas,\n",
            "Continuando a ella tu cuerpo entornado,\n",
            "Y en un sueño del frío y las noches,\n",
            "Y en un gris y el mío, con tiernas lágrimas\n",
            "De la que se abren al hondo oscuro de la sombra,\n",
            "Que luego va a dar el fuego en las aguas\n",
            "Y en Dios, a la mujer, cerca de mi madre.\n",
            "\n",
            "TITULO:III\n",
            "\n",
            "\n",
            "¡Oh, sí, sí, sí, sí, sí! Dormir ya del hombre ciego;\n",
            "Que no cabe en mi cuerpo que nunca nadie puede\n",
            "Gracia abierta de esos hombres en el árbol.\n",
            "\n",
            "TITULO:IV\n",
            "\n",
            "\n",
            "¿Y si me viene el cielo que no existe su sueño\n",
            "Que en las sombra junto a los azules,\n",
            "Rodillas de espinas, lágrimas\n",
            "Que luchan por el tiempo,\n",
            "En los ojos donde no se oye\n",
            "El hundido de las cumbres que oye\n",
            "Al corazón fragante de las estrellas.\n",
            "\n",
            "TITULO:V\n",
            "\n",
            "\n",
            "¡Oh, sí, sí! Tú sí, pensar,\n",
            "Señal, piedra y triste,\n",
            "Y en el jardín hermoso,\n",
            "Coró, inviernos y dolor.\n",
            "\n",
            "TITULO:VI\n",
            "\n",
            "\n",
            "Tú tienes el jardín\n",
            "En la pradera del viento;\n",
            "Miras a las cinco días\n",
            "Por los ciervos de la piedra.\n",
            "\n",
            "TITULO:VII\n",
            "\n",
            "\n",
            "Mas quise bajar el cielo, en el tiempo\n",
            "Entre la sombra azul,\n",
            "Mientras sabe el jardín\n",
            "El mar cayendo de cada instante.\n",
            "\n",
            "TITULO:VIII\n",
            "\n",
            "\n",
            "Y tu amada\n",
            "Se espesa,\n",
            "Y como una gota\n",
            "Mientras yo sabe\n",
            "El más placer\n",
            "El látigo perdido\n",
            "Ya fui blanca,\n",
            "Y aunque nunca se confunde\n",
            "Este tiempo,\n",
            "Y en el tiempo\n",
            "Era un tiempo\n",
            "\n",
            "TITULO:IX\n",
            "\n",
            "\n",
            "En tu cuerpo me buscaba\n",
            "Que la fuerza escita,\n",
            "Crepúsculo, arde,\n",
            "Pronto\n",
            "De mí.\n",
            "\n",
            "TITULO:X\n",
            "\n",
            "\n",
            "Por eso tienes la cabeza,\n",
            "Cello\n",
            "Somos mi campo,\n",
            "Mientras el jardín\n",
            "Se arrebata y resuena.\n",
            "\n",
            "TITULO:XI\n",
            "\n",
            "\n",
            "Todo esta vida\n",
            "Desde tal fragante\n",
            "Fallaba el cielo\n",
            "Y también\n",
            "Desde aquí, camino,\n",
            "Y en el tiempo\n",
            "Todo esta vida\n",
            "A escribir, sobre el mar\n",
            "Y dormía.\n",
            "\n",
            "TITULO:XII\n",
            "\n",
            "\n",
            "Todo esta noche\n",
            "Y tus párpados\n",
            "Entre la niebla\n",
            "Y siente\n",
            "Pero quiero,\n",
            "Y quiero,\n",
            "De lágrimas contra el fuego\n",
            "Y en sí\n",
            "\n",
            "TITULO:XIII\n",
            "\n",
            "\n",
            "¡Oh, sí! Gozas\n",
            "No me hundas\n",
            "Y me voy,\n",
            "Y me mueves\n",
            "Y me seguiría\n",
            "Y es dueño de verde\n",
            "Y es lirio\n",
            "Y muy bajar\n",
            "Y muy bajarme desde aquí\n",
            "Y muy bajarme como un viento\n",
            "Y las noches de la ausencia\n",
            "Y el viento de las noches\n",
            "Y tú\n",
            "Y tú\n",
            "Y en la vida\n",
            "Y en la luz\n",
            "Y en la noche\n",
            "Y en la tormenta\n",
            "Y en la sombra de la llu\n"
          ],
          "name": "stdout"
        }
      ]
    },
    {
      "cell_type": "code",
      "metadata": {
        "id": "s7IqhDobl-Dz",
        "colab_type": "code",
        "colab": {}
      },
      "source": [
        ""
      ],
      "execution_count": null,
      "outputs": []
    }
  ],
  "metadata": {
    "colab": {
      "name": "GPT-2_amediavoz_generate.ipynb",
      "provenance": [],
      "collapsed_sections": []
    },
    "kernelspec": {
      "name": "python3",
      "display_name": "Python 3"
    },
    "accelerator": "GPU"
  },
  "nbformat": 4,
  "nbformat_minor": 0
}